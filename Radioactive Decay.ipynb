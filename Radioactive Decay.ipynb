{
 "cells": [
  {
   "cell_type": "markdown",
   "metadata": {},
   "source": [
    "# 442 Giriş Dersi"
   ]
  },
  {
   "cell_type": "code",
   "execution_count": 129,
   "metadata": {},
   "outputs": [],
   "source": [
    "import numpy as np\n",
    "from ROOT import TCanvas, TGraphErrors, TF1, gStyle\n",
    "from ROOT import gROOT\n",
    "from array import array"
   ]
  },
  {
   "cell_type": "code",
   "execution_count": 130,
   "metadata": {},
   "outputs": [],
   "source": [
    "t = np.array([3.73, 18.82, 37.25, 61.08, 94.32, 153.63])\n",
    "s = np.diff(t)\n",
    "lns = np.log(s)\n",
    "T = [(t[i]+t[i+1])/2 for i in range (len(t)-1)]\n",
    "Tt = np.around(T, decimals=5)\n",
    "Ser = np.sqrt(2)/(4*np.array(s))\n",
    "Ter = [np.sqrt(2)/8 for i in range (len(t)-1)]\n"
   ]
  },
  {
   "cell_type": "code",
   "execution_count": 131,
   "metadata": {},
   "outputs": [],
   "source": [
    "ndata = 5\n",
    "\n",
    "x  =  array( 'f', Tt)\n",
    "y  =  array( 'f', lns)\n",
    "sx =  array( 'f', Ter)\n",
    "sy =  array( 'f', Ser)"
   ]
  },
  {
   "cell_type": "code",
   "execution_count": 132,
   "metadata": {
    "scrolled": true
   },
   "outputs": [
    {
     "name": "stdout",
     "output_type": "stream",
     "text": [
      " FCN=1.59318 FROM MIGRAD    STATUS=CONVERGED      86 CALLS          87 TOTAL\n",
      "                     EDM=2.15785e-07    STRATEGY= 1      ERROR MATRIX ACCURATE \n",
      "  EXT PARAMETER                                   STEP         FIRST   \n",
      "  NO.   NAME      VALUE            ERROR          SIZE      DERIVATIVE \n",
      "   1  p0           1.22142e-02   1.31882e-04   3.71960e-08   2.65243e+00\n",
      "   2  p1           2.56648e+00   1.35541e-02   3.82282e-06   7.16665e-02\n"
     ]
    },
    {
     "name": "stderr",
     "output_type": "stream",
     "text": [
      "Warning in <TCanvas::Constructor>: Deleting canvas with same name: c1\n",
      "Info in <TCanvas::Print>: eps file 4500_15.eps has been created\n"
     ]
    },
    {
     "data": {
      "image/png": "[encoded data removed]",
      "text/plain": [
       "<IPython.core.display.Image object>"
      ]
     },
     "metadata": {},
     "output_type": "display_data"
    }
   ],
   "source": [
    "c1 = TCanvas( 'c1', 'A Simple Graph with error bars', 200, 10, 600, 400 )\n",
    "             \n",
    "mygraph = TGraphErrors(ndata,x,y,sx,sy)\n",
    "mygraph.Draw(\"A*\")\n",
    "mygraph.SetTitle(\"Line fit for the data of 15 squeezes for 4500 Volt\")\n",
    "mygraph.GetXaxis().SetTitle(\"T\")\n",
    "mygraph.GetYaxis().SetTitle(\"ln(S)\")\n",
    "\n",
    "\n",
    "fnew = TF1(\"fnew\",\"[0]*x+[1]\",0,110)\n",
    "fnew.SetParameters(3.1416,2.7182)\n",
    "mygraph.Fit(fnew)\n",
    "gStyle.SetOptFit(1111)\n",
    "fnew.Draw(\"same\")\n",
    "\n",
    "c1.Draw()\n",
    "c1.SaveAs(\"4500_15.eps\")"
   ]
  },
  {
   "cell_type": "code",
   "execution_count": null,
   "metadata": {},
   "outputs": [],
   "source": []
  }
 ],
 "metadata": {
  "kernelspec": {
   "display_name": "Python 2",
   "language": "python",
   "name": "python2"
  },
  "language_info": {
   "codemirror_mode": {
    "name": "ipython",
    "version": 2
   },
   "file_extension": ".py",
   "mimetype": "text/x-python",
   "name": "python",
   "nbconvert_exporter": "python",
   "pygments_lexer": "ipython2",
   "version": "2.7.15+"
  }
 },
 "nbformat": 4,
 "nbformat_minor": 2
}
